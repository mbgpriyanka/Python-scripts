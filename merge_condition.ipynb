{
 "cells": [
  {
   "cell_type": "markdown",
   "metadata": {},
   "source": [
    "# This code merges two xml files after checking whether the filenames are the same or not"
   ]
  },
  {
   "cell_type": "code",
   "execution_count": 1,
   "metadata": {},
   "outputs": [],
   "source": [
    "import xml.etree.ElementTree as ET\n",
    "import glob"
   ]
  },
  {
   "cell_type": "code",
   "execution_count": 9,
   "metadata": {},
   "outputs": [
    {
     "data": {
      "text/plain": [
       "5"
      ]
     },
     "execution_count": 9,
     "metadata": {},
     "output_type": "execute_result"
    }
   ],
   "source": [
    "files = glob.glob(\"C:\\\\Users\\\\piyan\\\\A-Mask\\\\Mask_RCNN-master\\\\A _Other stuffs_Tasks\\\\01 June tasks\\\\Input\\\\*.xml\")\n",
    "len(files)"
   ]
  },
  {
   "cell_type": "code",
   "execution_count": 3,
   "metadata": {},
   "outputs": [],
   "source": [
    "tree = ET.parse(files[0])"
   ]
  },
  {
   "cell_type": "code",
   "execution_count": 4,
   "metadata": {},
   "outputs": [],
   "source": [
    "root = tree.getroot()"
   ]
  },
  {
   "cell_type": "code",
   "execution_count": 5,
   "metadata": {},
   "outputs": [],
   "source": [
    "tree1 = tree\n",
    "root1 = root"
   ]
  },
  {
   "cell_type": "code",
   "execution_count": 7,
   "metadata": {
    "scrolled": true
   },
   "outputs": [
    {
     "name": "stdout",
     "output_type": "stream",
     "text": [
      "WIN_20200522_11_53_39_Pro.jpg WIN_20200522_11_53_39_Pro.jpg\n",
      "WIN_20200522_11_53_39_Pro.jpg WIN_20200522_11_53_39_Pro.jpg\n",
      "WIN_20200522_11_53_39_Pro.jpg WIN_20200522_11_53_39_Pro.jpg\n",
      "WIN_20200522_11_53_39_Pro.jpg WIN_20200522_11_53_39_Pro.jpg\n"
     ]
    }
   ],
   "source": [
    "for file in files[1:] :\n",
    "    tree2 = ET.parse(file)\n",
    "    root2 = tree2.getroot()\n",
    "    print(root1[1].text,root2[1].text)\n",
    "   \n",
    "    if root1[1].text == root2[1].text : # if filenames are same\n",
    "        for obj in root2.findall('object') :\n",
    "            root1.append(obj)# append each object tag info\n",
    "    \n",
    "    tree1._setroot(root1)"
   ]
  },
  {
   "cell_type": "code",
   "execution_count": 8,
   "metadata": {},
   "outputs": [],
   "source": [
    "tree1.write('C:\\\\Users\\\\piyan\\\\A-Mask\\\\Mask_RCNN-master\\\\A _Other stuffs_Tasks\\\\01 June tasks\\\\Output\\\\output.xml')"
   ]
  },
  {
   "cell_type": "code",
   "execution_count": null,
   "metadata": {},
   "outputs": [],
   "source": []
  }
 ],
 "metadata": {
  "kernelspec": {
   "display_name": "Python 3",
   "language": "python",
   "name": "python3"
  },
  "language_info": {
   "codemirror_mode": {
    "name": "ipython",
    "version": 3
   },
   "file_extension": ".py",
   "mimetype": "text/x-python",
   "name": "python",
   "nbconvert_exporter": "python",
   "pygments_lexer": "ipython3",
   "version": "3.6.10"
  }
 },
 "nbformat": 4,
 "nbformat_minor": 4
}
