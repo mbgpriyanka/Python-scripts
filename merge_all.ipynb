{
 "cells": [
  {
   "cell_type": "markdown",
   "metadata": {},
   "source": [
    "# This code merges ie appends one after the there unconditionally"
   ]
  },
  {
   "cell_type": "code",
   "execution_count": 1,
   "metadata": {},
   "outputs": [],
   "source": [
    "import xml.etree.ElementTree as ET\n",
    "import glob"
   ]
  },
  {
   "cell_type": "code",
   "execution_count": 3,
   "metadata": {},
   "outputs": [
    {
     "data": {
      "text/plain": [
       "5"
      ]
     },
     "execution_count": 3,
     "metadata": {},
     "output_type": "execute_result"
    }
   ],
   "source": [
    "files = glob.glob(\"C:\\\\Users\\\\piyan\\\\A-Mask\\\\Mask_RCNN-master\\\\A _Other stuffs_Tasks\\\\01 June tasks\\\\All\\\\*.xml\")\n",
    "len(files)"
   ]
  },
  {
   "cell_type": "code",
   "execution_count": 4,
   "metadata": {},
   "outputs": [],
   "source": [
    "tree = ET.parse(files[0])"
   ]
  },
  {
   "cell_type": "code",
   "execution_count": 5,
   "metadata": {},
   "outputs": [],
   "source": [
    "root = tree.getroot()"
   ]
  },
  {
   "cell_type": "code",
   "execution_count": 6,
   "metadata": {},
   "outputs": [],
   "source": [
    "tree1 = tree\n",
    "root1 = root"
   ]
  },
  {
   "cell_type": "code",
   "execution_count": 7,
   "metadata": {
    "scrolled": true
   },
   "outputs": [
    {
     "name": "stdout",
     "output_type": "stream",
     "text": [
      "<Element 'annotation' at 0x0000019F5942CEA8>\n",
      "<Element 'annotation' at 0x0000019F5945A908>\n",
      "<Element 'annotation' at 0x0000019F59467368>\n",
      "<Element 'annotation' at 0x0000019F5946ED68>\n"
     ]
    }
   ],
   "source": [
    "for file in files[1:] :\n",
    "    tree2 = ET.parse(file)\n",
    "    root2 = tree2.getroot()\n",
    "    print(root2)\n",
    "    root1.append(root2) # append the next xml to the earlier one\n",
    "   "
   ]
  },
  {
   "cell_type": "code",
   "execution_count": 8,
   "metadata": {},
   "outputs": [],
   "source": [
    "tree1.write('C:\\\\Users\\\\piyan\\\\A-Mask\\\\Mask_RCNN-master\\\\A _Other stuffs_Tasks\\\\01 June tasks\\\\Output\\\\all.xml')"
   ]
  },
  {
   "cell_type": "code",
   "execution_count": null,
   "metadata": {},
   "outputs": [],
   "source": []
  }
 ],
 "metadata": {
  "kernelspec": {
   "display_name": "Python 3",
   "language": "python",
   "name": "python3"
  },
  "language_info": {
   "codemirror_mode": {
    "name": "ipython",
    "version": 3
   },
   "file_extension": ".py",
   "mimetype": "text/x-python",
   "name": "python",
   "nbconvert_exporter": "python",
   "pygments_lexer": "ipython3",
   "version": "3.6.10"
  }
 },
 "nbformat": 4,
 "nbformat_minor": 4
}
